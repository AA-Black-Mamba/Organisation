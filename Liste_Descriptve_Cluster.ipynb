{
 "cells": [
  {
   "cell_type": "markdown",
   "metadata": {},
   "source": [
    "# Liste für Deskriptive Analyse"
   ]
  },
  {
   "cell_type": "markdown",
   "metadata": {},
   "source": [
    "- Anzahl der Buchungen auf den Jahresverlauf gesehen, also pro Monat\n",
    "- Unterschied der Buchungsanzahl in Bezug auf die Jahreszeiten\n",
    "- Durchschnittliche Buchungsanzahl in Bezug auf Wochentage\n",
    "- Durchschnittliche Buchungsanzahl in Bezug auf Stunden des Tages (Montag, Dienstag, Mittwoch, Donnerstag, Freitag,   Samstag, Sonntag)\n",
    "- Dauer der Buchungen für die einzelnen Tage je Stunde (ggf. mit Varianz)\n",
    "- meistgefahrere Strecken, Anzahl Buchungen auf bestimmte Strecken \n",
    "- am wenigsten gefahrene Strecken \n",
    "- Anzahl gemietete Fahrzeuge an einer Station pro Tag/Stunde\n",
    "- Anzahl nicht gemieteter Fahrzeuge\n",
    "- die Differenz von den beiden\n",
    "- Strecken, die im Winter nicht mehr gefahren werden z.b."
   ]
  },
  {
   "cell_type": "markdown",
   "metadata": {},
   "source": [
    "# Liste für Cluster"
   ]
  },
  {
   "cell_type": "markdown",
   "metadata": {},
   "source": [
    "- Kunden, die zur Arbeitszeit fahren\n",
    "- Kunden, die bestimmte Strecken zur Arbeitszeit fahren\n",
    "- Kunden, die Kurzstrecken fahren (Strecken, die häufig gefahren werden und die, die weniger gefahren werden)\n"
   ]
  },
  {
   "cell_type": "markdown",
   "metadata": {},
   "source": [
    "1. Anzahl der Buchungen gegenüber der Uhrzeit morgens\n",
    "2. Anzahl der Buchungen gegenüber der Uhrzeit abends\n",
    "3. Liste der Streckenkombis -> Welche Strecken werden am meisten befahren? -> Welche sind am weitesten?\n",
    "4. Welche dieser Strecken sind besonders befahren während der Arbeitszeiten\n",
    "5. Welche Strecken sind kurz und werden häufig gefahren? Werden kurze Strecken häufiger gefahren als lange?\n"
   ]
  },
  {
   "cell_type": "markdown",
   "metadata": {},
   "source": [
    "## Probleme und offene Fragen"
   ]
  },
  {
   "cell_type": "markdown",
   "metadata": {},
   "source": [
    "Sieh dir https://baselinesupport.campuslabs.com/hc/en-us/articles/204305665-Types-of-Descriptive-Statistics an, um\n",
    "ggf noch mehr Ideen zu bekommen"
   ]
  },
  {
   "cell_type": "markdown",
   "metadata": {},
   "source": [
    "Außerdem Folien zu Lecture 2 bezüglich der Frage, ob wir Hypothesen aufstellen sollen (ich finde es überflüssig)"
   ]
  },
  {
   "cell_type": "markdown",
   "metadata": {},
   "source": [
    "Die 2017 Datei ist im Gegensatz zu 2016 von über 40 Spalten auf 17 reduziert worden. Die Spalte Distanz hat in der Buchungsdatei immer 0.0. Soweit ich gefunden habe, gibt es in der 2017 Datei nur Spalten zur Dauer der Buchungen, nicht zur Entfernung. Sollen wir also noch Geo-Daten hinzufügen? (too much work?) Damit würden für Strecken nur Daten genutzt werden können, die sowohl eine Start als auch eine End Station haben. Ohne Geo Daten fallen Kurz und Lang-Strecken raus."
   ]
  },
  {
   "cell_type": "markdown",
   "metadata": {},
   "source": [
    "## Next\n",
    "\n",
    "- Tabelle auf Einträge ermitteln, die weder eine Start-End Kombi haben, noch eine per Rental Zone ID. Heißt, wir haben hier 4 Spalten. Wenn keine Kombi von Start und End zustande kommt, dann Zeilen rausschmeißen bei unter 5 Prozent. Oder wenn z.B. nur Start ggb ist, dann über die häufigste Verbindung mit der Startzone die Endzone als Durschnittswert eingeben (obwohl das Prinzip, glaube ich, nur auf die Prediction zutrifft)"
   ]
  }
 ],
 "metadata": {
  "kernelspec": {
   "display_name": "Python 3",
   "language": "python",
   "name": "python3"
  },
  "language_info": {
   "codemirror_mode": {
    "name": "ipython",
    "version": 3
   },
   "file_extension": ".py",
   "mimetype": "text/x-python",
   "name": "python",
   "nbconvert_exporter": "python",
   "pygments_lexer": "ipython3",
   "version": "3.7.3"
  }
 },
 "nbformat": 4,
 "nbformat_minor": 2
}
