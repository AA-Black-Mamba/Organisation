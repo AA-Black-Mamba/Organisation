{
 "cells": [
  {
   "cell_type": "markdown",
   "metadata": {},
   "source": [
    "# AA - Test Notes and Data for Group work"
   ]
  },
  {
   "cell_type": "markdown",
   "metadata": {},
   "source": [
    "Importing necessary libraries"
   ]
  },
  {
   "cell_type": "code",
   "execution_count": 1,
   "metadata": {},
   "outputs": [],
   "source": [
    "import csv\n",
    "import pandas as pd\n",
    "import numpy as np"
   ]
  },
  {
   "cell_type": "markdown",
   "metadata": {},
   "source": [
    "## Getting the different files read into the notebook and explaining what data they contain. Furthermore first operation to check if all column names are read correctly."
   ]
  },
  {
   "cell_type": "markdown",
   "metadata": {},
   "source": [
    "<p>Information to the data in the booking file:<p>\n",
    "The first few columns are the keys for the bookings, the effective category of a booking, the keys for a vehicle and the keys for a rented object (rented vehicle),the id of the customer and the keys for the station. It also cotains more detailed information on the bookings, as in when a booking started and when it ended, how long the booking took and how long the actual usage took and at what stations it started and ended (city). Furthermore, there are certain information on cetagories and companies. \n",
    "Notice that the documentation contains also the CATEGORY_HAL_ID column at the very end, which is missing here. "
   ]
  },
  {
   "cell_type": "code",
   "execution_count": 2,
   "metadata": {},
   "outputs": [],
   "source": [
    "booking_set = pd.read_csv(\"HACKATHON_BOOKING_CALL_A_BIKE.csv\", delimiter='\\t')"
   ]
  },
  {
   "cell_type": "code",
   "execution_count": 3,
   "metadata": {
    "scrolled": true
   },
   "outputs": [
    {
     "data": {
      "text/plain": [
       "Index(['BOOKING_HAL_ID;\"EFFECTIVE_CATEGORY_HAL_ID\";\"VEHICLE_HAL_ID\";\"VEHICLE_HAL_SRC\";\"RENTAL_OBJECT_HAL_ID\";\"RENTAL_OBJECT_HAL_SRC\";\"VEHICLE_COMPANY_HAL_ID\";\"DUTY_TRIP_X\";\"CUSTOMER_HAL_ID\";\"DATE_BOOKING\";\"DATE_FROM\";\"DATE_UNTIL\";\"BILLING_X\";\"RENTAL_ZONE_HAL_ID\";\"RENTAL_ZONE_HAL_SRC\";\"BLOCK_CUSTOMER_X\";\"CONTRACT_COMPANY_HAL_ID\";\"COMPUTE_EXTRA_BOOKING_FEE\";\"TRAVERSE_USE_X\";\"BOOKING_LENGTH_MINUTES\";\"BOOKING_LENGTH_MINUTES_SERVICE\";\"TRIP_LENGTH_MINUTES\";\"TRIP_LENGTH_MINUTES_SERVICE\";\"CAR2GO_FLINKSTER_X\";\"FLINKSTER_CAR2GO_X\";\"CUSTOMER_BOOKING_X\";\"DISTANCE\";\"COUNT_BOOKING_X\";\"NO_SHOW_X\";\"RENTAL_ZONE_STATISTICAL_FLAG_X\";\"CATEGORY_STATISTICAL_FLAG_X\";\"BOOKING_COMPANY_X\";\"COST_CENTER\";\"VEHICLE_MODEL_TYPE\";\"RESELLER_HAL_ID\";\"SUB_FRAMEBOOKING_X\";\"SERVICE_BOOKING_X\";\"FRAME_BOOKING_HAL_ID\";\"START_RENTAL_ZONE\";\"START_RENTAL_ZONE_GROUP\";\"END_RENTAL_ZONE\";\"END_RENTAL_ZONE_GROUP\";\"CITY_RENTAL_ZONE\";\"ACTUAL_VEHICLE_CATEGORY\";\"BOOKING_LENGTH_CLASSIFICATION\";\"TECHNICAL_USER_NAME\";\"TECHNICAL_USER_NAME_LONG\"'], dtype='object')"
      ]
     },
     "execution_count": 3,
     "metadata": {},
     "output_type": "execute_result"
    }
   ],
   "source": [
    "booking_set.columns"
   ]
  },
  {
   "cell_type": "markdown",
   "metadata": {},
   "source": [
    "<p>Information to the data in the Vehicle file:<p>\n",
    "The first two columns are keys to identify a vehicle. The rental object contain the columns to identify the rented vehicle in combination with the integrated computer (as in some kind of chip that identifies the vehicle). The rest of the columns contain information on the different vehicles, these can be cars AND bikes. It contains for example the producer of the vehicle, the how the model is called but also how far the vehicle has already driven and also the ownertype (leasing, bought etc). \n",
    "Notice that the Column named VEHICLE_TYPE_NAME is called VEHICLE_MODEL_TYPE in the Documentation on the DB website. "
   ]
  },
  {
   "cell_type": "code",
   "execution_count": 2,
   "metadata": {
    "scrolled": true
   },
   "outputs": [],
   "source": [
    "vehicle_set = pd.read_csv(\"HACKATHON_VEHICLE_CALL_A_BIKE.csv\")"
   ]
  },
  {
   "cell_type": "code",
   "execution_count": 3,
   "metadata": {
    "scrolled": true
   },
   "outputs": [
    {
     "data": {
      "text/plain": [
       "Index(['VEHICLE_HAL_ID;\"VEHICLE_HAL_SRC\";\"RENTAL_OBJECT_HAL_ID\";\"RENTAL_OBJECT_HAL_SRC\";\"VEHICLE_MODEL_TYPE\";\"VEHICLE_MANUFACTURER_NAME\";\"VEHICLE_MODEL_NAME\";\"VEHICLE_TYPE_NAME\";\"VIN\";\"REGISTRATION_PLATE\";\"KW\";\"INITIAL_MILEAGE\";\"FUEL_TYPE_NAME\";\"FUEL_TYPE_OTA\";\"OWNERSHIP_TYPE\";\"CAPACITY_AMOUNT\";\"FZ_ID\";\"DB_NR\";\"SERIAL_NUMBER\";\"ACCESS_CONTROL_COMPONENT_TYPE\";\"COMPANY\";\"COMPANY_GROUP\"'], dtype='object')"
      ]
     },
     "execution_count": 3,
     "metadata": {},
     "output_type": "execute_result"
    }
   ],
   "source": [
    "vehicle_set.columns"
   ]
  },
  {
   "cell_type": "markdown",
   "metadata": {},
   "source": [
    "<p>Information to the data in the retal_zone file:<p>\n",
    "The first two columns are used to identify a rental zone (as in a station). The rest of the columns contains information such as where the station is, the city, the city, and what institutions are close to the station such as subways, airports etc. plus a few other information.\n",
    "Notice that the Documentation on the DB website does not contain the two columns RENTAL_ZONE_X_COORDINATE and RENTAL_ZONE_Y_COORDINATE."
   ]
  },
  {
   "cell_type": "code",
   "execution_count": 4,
   "metadata": {},
   "outputs": [],
   "source": [
    "rental_zone_set = pd.read_csv(\"HACKATHON_RENTAL_ZONE_CALL_A_BIKE.csv\", delimiter='\\t')"
   ]
  },
  {
   "cell_type": "code",
   "execution_count": 5,
   "metadata": {},
   "outputs": [
    {
     "data": {
      "text/plain": [
       "Index(['RENTAL_ZONE_HAL_ID;\"RENTAL_ZONE_HAL_SRC\";\"NAME\";\"TYPE\";\"CITY\";\"COUNTRY\";\"POI_AIRPORT_X\";POI_LONG_DISTANCE_TRAINS_X;POI_SUBURBAN_TRAINS_X;POI_UNDERGROUND_X;\"CLASSIFICATION\";\"RENTAL_ZONE_GROUP\";\"CODE\";\"COMPANY\";\"COMPANY_GROUP\";\"FRANCHISE\";ACTIVE_X;\"RENTAL_ZONE_GROUP_X\";\"RENTAL_ZONE_X_COORDINATE\";\"RENTAL_ZONE_Y_COORDINATE\"'], dtype='object')"
      ]
     },
     "execution_count": 5,
     "metadata": {},
     "output_type": "execute_result"
    }
   ],
   "source": [
    "rental_zone_set.columns"
   ]
  },
  {
   "cell_type": "markdown",
   "metadata": {},
   "source": [
    "<p>Information to the data in the efficiency file:<p>\n",
    "The file contains information on the different bookings that have been done at certain dates (hence the first few columns are the keys for the booking, the date and the station). The long list of seconds_booked columns shows how long the booking was for the whole day in seconds. It is devided in apparently normal bookings and service bookings. The last few columns are the booking times in hours for normal and service bookings. \n",
    "Notice that the column that is here named \"Expr1\" is the VEHICLE_HAL_SRC in the documentation of the DB website (hence this might be a mistake. However, there is no such entry as Expr1 in the VEHICLE_HAL_SRC in the vehicle data file, so the column might as well be just named that way). Also notice that 3 columns aren't mentioned in the documentation of the DB website: HOURS_BOOKED_SERVICE, CATEGORY_HAL_ID and EFFECTIVE_CATEGORY_HAL_ID. "
   ]
  },
  {
   "cell_type": "code",
   "execution_count": 2,
   "metadata": {},
   "outputs": [],
   "source": [
    "efficiency_set = pd.read_csv(\"HACKATHON_EFFICIENCY_CALL_A_BIKE.csv\", delimiter='\\t')"
   ]
  },
  {
   "cell_type": "code",
   "execution_count": 3,
   "metadata": {},
   "outputs": [
    {
     "data": {
      "text/plain": [
       "Index(['DAY_ID;\"DATE_DAY\";\"BOOKING_HAL_ID\";\"VEHICLE_HAL_ID\";\"Expr1\";\"COMPANY_HAL_ID\";\"SERVICE_BOOKING_X\";\"RENTAL_ZONE_HAL_ID\";\"RENTAL_ZONE_HAL_SRC\";\"RENTAL_POOL_HAL_ID\";\"VEHICLE_COUNT\";\"SECONDS_BOOKED\";\"SECONDS_BOOKED00\";\"SECONDS_BOOKED01\";\"SECONDS_BOOKED02\";\"SECONDS_BOOKED03\";\"SECONDS_BOOKED04\";\"SECONDS_BOOKED05\";\"SECONDS_BOOKED06\";\"SECONDS_BOOKED07\";\"SECONDS_BOOKED08\";\"SECONDS_BOOKED09\";\"SECONDS_BOOKED10\";\"SECONDS_BOOKED11\";\"SECONDS_BOOKED12\";\"SECONDS_BOOKED13\";\"SECONDS_BOOKED14\";\"SECONDS_BOOKED15\";\"SECONDS_BOOKED16\";\"SECONDS_BOOKED17\";\"SECONDS_BOOKED18\";\"SECONDS_BOOKED19\";\"SECONDS_BOOKED20\";\"SECONDS_BOOKED21\";\"SECONDS_BOOKED22\";\"SECONDS_BOOKED23\";\"SECONDS_BOOKED_D\";\"SECONDS_BOOKED_D00\";\"SECONDS_BOOKED_D01\";\"SECONDS_BOOKED_D02\";\"SECONDS_BOOKED_D03\";\"SECONDS_BOOKED_D04\";\"SECONDS_BOOKED_D05\";\"SECONDS_BOOKED_D06\";\"SECONDS_BOOKED_D07\";\"SECONDS_BOOKED_D08\";\"SECONDS_BOOKED_D09\";\"SECONDS_BOOKED_D10\";\"SECONDS_BOOKED_D11\";\"SECONDS_BOOKED_D12\";\"SECONDS_BOOKED_D13\";\"SECONDS_BOOKED_D14\";\"SECONDS_BOOKED_D15\";\"SECONDS_BOOKED_D16\";\"SECONDS_BOOKED_D17\";\"SECONDS_BOOKED_D18\";\"SECONDS_BOOKED_D19\";\"SECONDS_BOOKED_D20\";\"SECONDS_BOOKED_D21\";\"SECONDS_BOOKED_D22\";\"SECONDS_BOOKED_D23\";\"SECONDS_BOOKED_FRAME_BOOKING\";\"HOURS_BOOKED\";\"CATEGORY_HAL_ID\";\"EFFECTIVE_CATEGORY_HAL_ID\";\"COMPANY\";\"COMPANY_GROUP\"'], dtype='object')"
      ]
     },
     "execution_count": 3,
     "metadata": {},
     "output_type": "execute_result"
    }
   ],
   "source": [
    "efficiency_set.columns"
   ]
  },
  {
   "cell_type": "markdown",
   "metadata": {},
   "source": [
    "<p>Information to the data in the availability file:<p>\n",
    "The first few columns are the keys to identify the date, the vehicle and the station. The columns named availability show the availability of a vehicle in seconds for a certain hour of the day (as in for example availability at 10am). \n",
    "Notice that the documentation on the DB website is missing the column CATEGORY_HAL_ID. "
   ]
  },
  {
   "cell_type": "code",
   "execution_count": 2,
   "metadata": {},
   "outputs": [],
   "source": [
    "availability_set = pd.read_csv(\"HACKATHON_AVAILABILITY_CALL_A_BIKE.csv\")"
   ]
  },
  {
   "cell_type": "code",
   "execution_count": 3,
   "metadata": {},
   "outputs": [
    {
     "data": {
      "text/plain": [
       "Index(['DAY_ID;\"DATE_DAY\";\"VEHICLE_HAL_ID\";\"VEHICLE_HAL_SRC\";\"COMPANY_HAL_ID\";\"RENTAL_ZONE_HAL_ID\";\"RENTAL_ZONE_HAL_SRC\";\"RENTAL_POOL_HAL_ID\";\"VEHICLE_COUNT\";\"AVAILABILITY\";\"AVAILABILITY00\";\"AVAILABILITY01\";\"AVAILABILITY02\";\"AVAILABILITY03\";\"AVAILABILITY04\";\"AVAILABILITY05\";\"AVAILABILITY06\";\"AVAILABILITY07\";\"AVAILABILITY08\";\"AVAILABILITY09\";\"AVAILABILITY10\";\"AVAILABILITY11\";\"AVAILABILITY12\";\"AVAILABILITY13\";\"AVAILABILITY14\";\"AVAILABILITY15\";\"AVAILABILITY16\";\"AVAILABILITY17\";\"AVAILABILITY18\";\"AVAILABILITY19\";\"AVAILABILITY20\";\"AVAILABILITY21\";\"AVAILABILITY22\";\"AVAILABILITY23\";\"CATEGORY_HAL_ID\";\"COMPANY\";\"COMPANY_GROUP\"'], dtype='object')"
      ]
     },
     "execution_count": 3,
     "metadata": {},
     "output_type": "execute_result"
    }
   ],
   "source": [
    "availability_set.columns"
   ]
  },
  {
   "cell_type": "markdown",
   "metadata": {},
   "source": [
    "<p>Information to the data in the category file:<p>\n",
    "The columns contain the key and a few information such as name and company for the different categories (Tarifklassen). "
   ]
  },
  {
   "cell_type": "code",
   "execution_count": 3,
   "metadata": {},
   "outputs": [],
   "source": [
    "category_set = pd.read_csv(\"HACKATHON_CATEGORY_CALL_A_BIKE.csv\", delimiter='\\t')"
   ]
  },
  {
   "cell_type": "code",
   "execution_count": 4,
   "metadata": {},
   "outputs": [
    {
     "data": {
      "text/plain": [
       "Index(['HAL_ID;STATISTICAL_FLAG_X;CATEGORY;COMPANY;COMPANY_GROUP'], dtype='object')"
      ]
     },
     "execution_count": 4,
     "metadata": {},
     "output_type": "execute_result"
    }
   ],
   "source": [
    "category_set.columns"
   ]
  },
  {
   "cell_type": "markdown",
   "metadata": {},
   "source": [
    "## Section for open questions/problems"
   ]
  },
  {
   "cell_type": "markdown",
   "metadata": {},
   "source": [
    "<p>There are some open questions regarding certain terms on the documentation which will be asked in German here since the documentation is in German:<p>\n",
    "    Zur Buchungsdatei: Was genau bedeuten die Begriffe Sperrkunden (etwa ein Kunde, der gesperrt ist? Aber wie kann ein gesperrter Kunde eine Buchung durchführen? BLOCK_CUSTOMER_X soll ja gerade das aussagen), Quernutzung (etwa dass man mehrere Buchungen gleichzeitig laufen hat?), \"statistik-relevant\" (heißt das für uns, die Daten, die nicht statistik-relevant sind, sind für unsere Statistik nicht relevant?), Rahmenunterbuchung (wenn man auf eine bestimmte Zeit gebucht hat, aber da drunter liegt am Ende?) und Rahmenoberbuchung (das Gegenteil von vorher?) sowie Metastandort (die erste Station?)? "
   ]
  },
  {
   "cell_type": "code",
   "execution_count": null,
   "metadata": {},
   "outputs": [],
   "source": []
  }
 ],
 "metadata": {
  "kernelspec": {
   "display_name": "Python 3",
   "language": "python",
   "name": "python3"
  },
  "language_info": {
   "codemirror_mode": {
    "name": "ipython",
    "version": 3
   },
   "file_extension": ".py",
   "mimetype": "text/x-python",
   "name": "python",
   "nbconvert_exporter": "python",
   "pygments_lexer": "ipython3",
   "version": "3.7.3"
  }
 },
 "nbformat": 4,
 "nbformat_minor": 2
}
